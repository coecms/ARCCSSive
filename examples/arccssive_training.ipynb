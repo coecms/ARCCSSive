{
 "cells": [
  {
   "cell_type": "markdown",
   "metadata": {
    "collapsed": true,
    "deletable": true,
    "editable": true,
    "slideshow": {
     "slide_type": "slide"
    }
   },
   "source": [
    "### Import CMIP5 from the module and start a session"
   ]
  },
  {
   "cell_type": "markdown",
   "metadata": {
    "deletable": true,
    "editable": true,
    "slideshow": {
     "slide_type": "subslide"
    }
   },
   "source": [
    "The latest ARCCSSive stable version is available from the conda **analysis27** environment  \n",
    "Anyone can load them both from raijin and the remote desktop.  \n"
   ]
  },
  {
   "cell_type": "code",
   "execution_count": 1,
   "metadata": {
    "collapsed": false,
    "deletable": true,
    "editable": true,
    "slideshow": {
     "slide_type": "fragment"
    }
   },
   "outputs": [],
   "source": [
    "!  module use /g/data3/hh5/public/modules\n",
    "!  module load conda/analysis27"
   ]
  },
  {
   "cell_type": "markdown",
   "metadata": {
    "deletable": true,
    "editable": true,
    "slideshow": {
     "slide_type": "fragment"
    }
   },
   "source": [
    "The database location is saved in the **$CMIP5_DB** environment variable. This is defined automatically if you have loaded ARCCSSive from conda/analysis27."
   ]
  },
  {
   "cell_type": "code",
   "execution_count": 2,
   "metadata": {
    "collapsed": false,
    "deletable": true,
    "editable": true,
    "slideshow": {
     "slide_type": "fragment"
    }
   },
   "outputs": [],
   "source": [
    "! export CMIP5_DB=sqlite:////g/data1/ua6/unofficial-ESG-replica/tmp/tree/cmip5_raijin_latest.db   "
   ]
  },
  {
   "cell_type": "markdown",
   "metadata": {
    "collapsed": true,
    "deletable": true,
    "editable": true,
    "slideshow": {
     "slide_type": "slide"
    }
   },
   "source": [
    "Import **CMIP5** from the module and use the *method* **connect()** to open a connection to the database."
   ]
  },
  {
   "cell_type": "code",
   "execution_count": 3,
   "metadata": {
    "collapsed": false,
    "deletable": true,
    "editable": true,
    "slideshow": {
     "slide_type": "fragment"
    }
   },
   "outputs": [],
   "source": [
    "from ARCCSSive import CMIP5\n",
    "db=CMIP5.connect()"
   ]
  },
  {
   "cell_type": "markdown",
   "metadata": {
    "collapsed": true,
    "deletable": true,
    "editable": true,
    "slideshow": {
     "slide_type": "notes"
    }
   },
   "source": [
    "Opening a connection creates a **session object** (in this case *db*). A *session* manages all the comunication with the database and contains all the objects which you’ve loaded or associated with it during its lifespan. Every query to the database is run through the *session*.  \n",
    "There are a number of helper functions for common operations:"
   ]
  },
  {
   "cell_type": "code",
   "execution_count": 4,
   "metadata": {
    "collapsed": false,
    "deletable": true,
    "editable": true,
    "slideshow": {
     "slide_type": "fragment"
    }
   },
   "outputs": [
    {
     "data": {
      "text/plain": [
       "[u'ACCESS1-0',\n",
       " u'ACCESS1-3',\n",
       " u'BESM-OA2-3',\n",
       " u'BNU-ESM',\n",
       " u'CCSM4',\n",
       " u'CESM1-BGC',\n",
       " u'CESM1-CAM5',\n",
       " u'CESM1-CAM5-1-FV2',\n",
       " u'CESM1-FASTCHEM',\n",
       " u'CESM1-WACCM',\n",
       " u'CFSv2-2011',\n",
       " u'CMCC-CESM',\n",
       " u'CMCC-CM',\n",
       " u'CMCC-CMS',\n",
       " u'CNRM-CM5',\n",
       " u'CNRM-CM5-2',\n",
       " u'COSMOS-ASO',\n",
       " u'CSIRO-Mk3-6-0',\n",
       " u'CSIRO-Mk3L-1-2',\n",
       " u'CanAM4',\n",
       " u'CanCM4',\n",
       " u'CanESM2',\n",
       " u'EC-EARTH',\n",
       " u'EC-EARTH-2-2',\n",
       " u'FGOALS-g2',\n",
       " u'FGOALS-gl',\n",
       " u'FGOALS-s2',\n",
       " u'FIO-ESM',\n",
       " u'GEOS-5',\n",
       " u'GFDL-CM2p1',\n",
       " u'GFDL-CM3',\n",
       " u'GFDL-ESM2G',\n",
       " u'GFDL-ESM2M',\n",
       " u'GFDL-HIRAM-C180',\n",
       " u'GFDL-HIRAM-C360',\n",
       " u'GISS-E2-H',\n",
       " u'GISS-E2-H-CC',\n",
       " u'GISS-E2-R',\n",
       " u'GISS-E2-R-CC',\n",
       " u'HadCM3',\n",
       " u'HadGEM2-A',\n",
       " u'HadGEM2-AO',\n",
       " u'HadGEM2-CC',\n",
       " u'HadGEM2-ES',\n",
       " u'IPSL-CM5A-LR',\n",
       " u'IPSL-CM5A-MR',\n",
       " u'IPSL-CM5B-LR',\n",
       " u'KCM1-2-2',\n",
       " u'MIROC-ESM',\n",
       " u'MIROC-ESM-CHEM',\n",
       " u'MIROC4h',\n",
       " u'MIROC5',\n",
       " u'MPI-ESM-LR',\n",
       " u'MPI-ESM-MR',\n",
       " u'MPI-ESM-P',\n",
       " u'MRI-AGCM3-2H',\n",
       " u'MRI-AGCM3-2S',\n",
       " u'MRI-CGCM3',\n",
       " u'MRI-ESM1',\n",
       " u'NorESM1-M',\n",
       " u'NorESM1-ME',\n",
       " u'bcc-csm1-1',\n",
       " u'bcc-csm1-1-m',\n",
       " u'inmcm4']"
      ]
     },
     "execution_count": 4,
     "metadata": {},
     "output_type": "execute_result"
    }
   ],
   "source": [
    "db.models()"
   ]
  },
  {
   "cell_type": "markdown",
   "metadata": {
    "collapsed": true,
    "deletable": true,
    "editable": true,
    "slideshow": {
     "slide_type": "fragment"
    }
   },
   "source": [
    "models() return all the models recorded in the database,  \n",
    "experiments(), variables(), mips() produce similar lists for each respective field "
   ]
  },
  {
   "cell_type": "markdown",
   "metadata": {
    "deletable": true,
    "editable": true,
    "slideshow": {
     "slide_type": "slide"
    }
   },
   "source": [
    "### Perform a simple search"
   ]
  },
  {
   "cell_type": "markdown",
   "metadata": {
    "collapsed": true,
    "deletable": true,
    "editable": true,
    "slideshow": {
     "slide_type": "slide"
    }
   },
   "source": [
    "To perform a search you can use the **outputs(  )** function.  \n",
    "**outputs(   )** is a 'shortcut' to perform a session.query on the Instances table.\n",
    "The following example shows all the input arguments you can use, the order doesn't matter and you can omit any of them.  \n",
    "\n",
    "> db.outputs( column-name='value', ... )  \n",
    "\n",
    "will return all the rows for the Instances table in the database."
   ]
  },
  {
   "cell_type": "code",
   "execution_count": 5,
   "metadata": {
    "collapsed": true,
    "deletable": true,
    "editable": true,
    "slideshow": {
     "slide_type": "fragment"
    }
   },
   "outputs": [],
   "source": [
    "results=db.outputs(variable='tas',experiment='historical',mip='Amon',model='MIROC-ESM-CHEM',ensemble='r1i1p1')"
   ]
  },
  {
   "cell_type": "markdown",
   "metadata": {
    "collapsed": true,
    "deletable": true,
    "editable": true,
    "slideshow": {
     "slide_type": "fragment"
    }
   },
   "source": [
    "You can check how many *instances* your search returned by using the *query* method **count()**"
   ]
  },
  {
   "cell_type": "code",
   "execution_count": 7,
   "metadata": {
    "collapsed": false,
    "deletable": true,
    "editable": true,
    "slideshow": {
     "slide_type": "fragment"
    }
   },
   "outputs": [
    {
     "data": {
      "text/plain": [
       "1"
      ]
     },
     "execution_count": 7,
     "metadata": {},
     "output_type": "execute_result"
    }
   ],
   "source": [
    "results.count()"
   ]
  },
  {
   "cell_type": "markdown",
   "metadata": {
    "deletable": true,
    "editable": true,
    "slideshow": {
     "slide_type": "notes"
    }
   },
   "source": [
    "In this case we defined every possible constraint for the table and hence we get just one instance.  \n",
    "This should always be the case, if you use all the five attributes, because every *instance* is fully defined by these and each *instance* is unique. "
   ]
  },
  {
   "cell_type": "markdown",
   "metadata": {
    "deletable": true,
    "editable": true,
    "slideshow": {
     "slide_type": "slide"
    }
   },
   "source": [
    "We can loop through the instances returned by the search and access their attributes and their *children* ( i.e. related versions and files) attributes."
   ]
  },
  {
   "cell_type": "code",
   "execution_count": 8,
   "metadata": {
    "collapsed": false,
    "deletable": true,
    "editable": true,
    "slideshow": {
     "slide_type": "fragment"
    }
   },
   "outputs": [
    {
     "name": "stdout",
     "output_type": "stream",
     "text": [
      "(u'MIROC-ESM-CHEM', u'tas', u'r1i1p1')\n",
      "()\n",
      "drstree path is /g/data1/ua6/DRSv2/CMIP5/MIROC-ESM-CHEM/historical/mon/atmos/r1i1p1/tas/latest\n",
      "()\n",
      "('version', u'v20111004')\n",
      "('dataset-id', u'NA')\n",
      "('is_latest', False, 'checked on', u'2016-10-08')\n",
      "()\n",
      "/g/data/ua6/unofficial-ESG-replica/tmp/tree/dias-esg-nd.tkl.iis.u-tokyo.ac.jp/thredds/fileServer/esg_dataroot/outgoing/output1/MIROC/MIROC-ESM-CHEM/historical/mon/atmos/Amon/r1i1p1/v20111004/tas\n",
      "(u'tas_Amon_MIROC-ESM-CHEM_historical_r1i1p1_185001-200512.nc', u'27c8356f-39f4-4d66-8915-3a5f48b76318')\n",
      "(None, None)\n",
      "()\n",
      "('version', u'v20120710')\n",
      "('dataset-id', u'cmip5.output1.MIROC.MIROC-ESM-CHEM.historical.mon.atmos.Amon.r1i1p1.v20120710|esgf-data1.diasjp.net')\n",
      "('is_latest', True, 'checked on', u'2016-10-08')\n",
      "()\n",
      "/g/data/ua6/unofficial-ESG-replica/tmp/tree/dias-esg-nd.tkl.iis.u-tokyo.ac.jp/thredds/fileServer/esg_dataroot/outgoing/output1/MIROC/MIROC-ESM-CHEM/historical/mon/atmos/Amon/r1i1p1/v20120710/tas\n",
      "(u'tas_Amon_MIROC-ESM-CHEM_historical_r1i1p1_185001-200512.nc', u'27c8356f-39f4-4d66-8915-3a5f48b76318')\n",
      "(u'3459eff8fd39ff88c8b5e72f11694862', u'38bf378e1f11cabd42cee26124bfef6ac53e774f8ac9217ca856e103b4341acf')\n"
     ]
    }
   ],
   "source": [
    "for o in results:\n",
    "    print(o.model,o.variable,o.ensemble)\n",
    "    print()\n",
    "    print(\"drstree path is \" + str(o.drstree_path()))\n",
    "    for v in o.versions:\n",
    "        print()\n",
    "        print('version', v.version)\n",
    "        print('dataset-id', v.dataset_id)\n",
    "        print('is_latest', v.is_latest, 'checked on', v.checked_on)\n",
    "        print()\n",
    "        print(v.path)\n",
    "        for f in v.files:\n",
    "            print(f.filename, f.tracking_id)\n",
    "            print(f.md5, f.sha256)"
   ]
  },
  {
   "cell_type": "markdown",
   "metadata": {
    "deletable": true,
    "editable": true,
    "slideshow": {
     "slide_type": "slide"
    }
   },
   "source": [
    "### Navigate through search results"
   ]
  },
  {
   "cell_type": "markdown",
   "metadata": {
    "deletable": true,
    "editable": true,
    "slideshow": {
     "slide_type": "slide"
    }
   },
   "source": [
    "Let's have a better look at **results**  "
   ]
  },
  {
   "cell_type": "code",
   "execution_count": 9,
   "metadata": {
    "collapsed": false,
    "deletable": true,
    "editable": true,
    "slideshow": {
     "slide_type": "fragment"
    }
   },
   "outputs": [
    {
     "data": {
      "text/plain": [
       "sqlalchemy.orm.query.Query"
      ]
     },
     "execution_count": 9,
     "metadata": {},
     "output_type": "execute_result"
    }
   ],
   "source": [
    "results=db.outputs(variable='tas',experiment='historical',mip='Amon',model='MIROC-ESM-CHEM',ensemble='r1i1p1')\n",
    "type(results)"
   ]
  },
  {
   "cell_type": "markdown",
   "metadata": {
    "deletable": true,
    "editable": true,
    "slideshow": {
     "slide_type": "notes"
    }
   },
   "source": [
    "**results** is a *query object* but as we saw before we can loop through it as we do with a list.  \n",
    "In this particular case we have only one *instance* returned in results, but we still need to use an index to access it."
   ]
  },
  {
   "cell_type": "code",
   "execution_count": 10,
   "metadata": {
    "collapsed": false,
    "deletable": true,
    "editable": true,
    "slideshow": {
     "slide_type": "fragment"
    }
   },
   "outputs": [
    {
     "data": {
      "text/plain": [
       "ARCCSSive.CMIP5.Model.Instance"
      ]
     },
     "execution_count": 10,
     "metadata": {},
     "output_type": "execute_result"
    }
   ],
   "source": [
    "type(results[0])"
   ]
  },
  {
   "cell_type": "markdown",
   "metadata": {
    "deletable": true,
    "editable": true,
    "slideshow": {
     "slide_type": "slide"
    }
   },
   "source": [
    "A useful attribute of an *instance* is **versions**, this is a list of all the versions associated to that particular instance.  \n",
    "From a database point of view these are all the rows in the **Versions table** which are related to that particular instance."
   ]
  },
  {
   "cell_type": "code",
   "execution_count": 11,
   "metadata": {
    "collapsed": false,
    "deletable": true,
    "editable": true,
    "slideshow": {
     "slide_type": "fragment"
    }
   },
   "outputs": [
    {
     "data": {
      "text/plain": [
       "[<ARCCSSive.CMIP5.Model.Version at 0x7f6436cca550>,\n",
       " <ARCCSSive.CMIP5.Model.Version at 0x7f6436c55890>]"
      ]
     },
     "execution_count": 11,
     "metadata": {},
     "output_type": "execute_result"
    }
   ],
   "source": [
    "results[0].versions"
   ]
  },
  {
   "cell_type": "markdown",
   "metadata": {
    "deletable": true,
    "editable": true,
    "slideshow": {
     "slide_type": "fragment"
    }
   },
   "source": [
    "We have two versions available for this *instance*, we can loop through them and retrieve their attributes:"
   ]
  },
  {
   "cell_type": "code",
   "execution_count": 12,
   "metadata": {
    "collapsed": false,
    "deletable": true,
    "editable": true,
    "slideshow": {
     "slide_type": "fragment"
    }
   },
   "outputs": [
    {
     "name": "stdout",
     "output_type": "stream",
     "text": [
      "()\n",
      "v20111004\n",
      "()\n",
      "/g/data/ua6/unofficial-ESG-replica/tmp/tree/dias-esg-nd.tkl.iis.u-tokyo.ac.jp/thredds/fileServer/esg_dataroot/outgoing/output1/MIROC/MIROC-ESM-CHEM/historical/mon/atmos/Amon/r1i1p1/v20111004/tas\n",
      "()\n",
      "v20120710\n",
      "()\n",
      "/g/data/ua6/unofficial-ESG-replica/tmp/tree/dias-esg-nd.tkl.iis.u-tokyo.ac.jp/thredds/fileServer/esg_dataroot/outgoing/output1/MIROC/MIROC-ESM-CHEM/historical/mon/atmos/Amon/r1i1p1/v20120710/tas\n"
     ]
    }
   ],
   "source": [
    "for o in results:\n",
    "    for v in o.versions:\n",
    "        print()\n",
    "        print(v.version)\n",
    "        print()\n",
    "        print(v.path)"
   ]
  },
  {
   "cell_type": "markdown",
   "metadata": {
    "deletable": true,
    "editable": true,
    "slideshow": {
     "slide_type": "slide"
    }
   },
   "source": [
    "If we want to get only the *latest version*, we can use the **latest(  )** method of the Instance class. "
   ]
  },
  {
   "cell_type": "code",
   "execution_count": 13,
   "metadata": {
    "collapsed": false,
    "deletable": true,
    "editable": true,
    "slideshow": {
     "slide_type": "fragment"
    }
   },
   "outputs": [
    {
     "data": {
      "text/plain": [
       "u'v20120710'"
      ]
     },
     "execution_count": 13,
     "metadata": {},
     "output_type": "execute_result"
    }
   ],
   "source": [
    "results[0].latest()[0].version"
   ]
  },
  {
   "cell_type": "markdown",
   "metadata": {
    "deletable": true,
    "editable": true,
    "slideshow": {
     "slide_type": "subslide"
    }
   },
   "source": [
    "As you might have noticed **latest(  )** returns a list of Version objects rather than only one.  \n",
    "This is because there might be different copies of the same version, downloaded from different servers.  \n",
    "Currently the database lists all of them so that if you used one rather than the other in the past you can still find it.  \n",
    "There are plans though to keep just one copy per version to facilitate the collection management and save storage resources.  \n",
    "\n",
    "Other methods available for the Instances table (*objects*) are:  \n",
    "\n",
    "+ **filenames(  )**\n",
    "+ **drstree_path(  )**"
   ]
  },
  {
   "cell_type": "code",
   "execution_count": 14,
   "metadata": {
    "collapsed": false,
    "deletable": true,
    "editable": true,
    "slideshow": {
     "slide_type": "fragment"
    }
   },
   "outputs": [
    {
     "data": {
      "text/plain": [
       "[u'tas_Amon_MIROC-ESM-CHEM_historical_r1i1p1_185001-200512.nc']"
      ]
     },
     "execution_count": 14,
     "metadata": {},
     "output_type": "execute_result"
    }
   ],
   "source": [
    "results[0].filenames()"
   ]
  },
  {
   "cell_type": "code",
   "execution_count": 15,
   "metadata": {
    "collapsed": false,
    "deletable": true,
    "editable": true,
    "slideshow": {
     "slide_type": "fragment"
    }
   },
   "outputs": [
    {
     "data": {
      "text/plain": [
       "u'/g/data1/ua6/DRSv2/CMIP5/MIROC-ESM-CHEM/historical/mon/atmos/r1i1p1/tas/latest'"
      ]
     },
     "execution_count": 15,
     "metadata": {},
     "output_type": "execute_result"
    }
   ],
   "source": [
    "results[0].drstree_path()"
   ]
  },
  {
   "cell_type": "code",
   "execution_count": null,
   "metadata": {
    "collapsed": false,
    "deletable": true,
    "editable": true,
    "slideshow": {
     "slide_type": "fragment"
    }
   },
   "outputs": [],
   "source": [
    "% ls -l /g/data1/ua6/DRSv2/CMIP5/CCSM4/rcp45/day/atmos/r1i1p1/tas/latest"
   ]
  },
  {
   "cell_type": "markdown",
   "metadata": {
    "deletable": true,
    "editable": true,
    "slideshow": {
     "slide_type": "notes"
    }
   },
   "source": [
    "#### !!Warning!!\n",
    "In most cases you can use directly the drstee_path() method to get to the files, but it can be useful to find all the available versions.  \n",
    "For example if you want to make sure that a new version hasn't been added recently, DRSv2 it is updated only once a week.  \n",
    "Or if you find that the version linked by the DRSv2 is incomplete, there might be another copy of the same version.  \n",
    "We hope eventually to be able to have just one copy for each version and all of them clearly defined."
   ]
  },
  {
   "cell_type": "markdown",
   "metadata": {
    "deletable": true,
    "editable": true,
    "slideshow": {
     "slide_type": "slide"
    }
   },
   "source": [
    "### Filter search results"
   ]
  },
  {
   "cell_type": "markdown",
   "metadata": {
    "deletable": true,
    "editable": true,
    "slideshow": {
     "slide_type": "slide"
    }
   },
   "source": [
    "We can refine our results by using the SQLalchemy **filter(  )** function.    \n",
    "\n",
    "We will use the attributes ( or columns ) of the database tables as *constraints*.  \n",
    "So, first we need to import the tables definitions from ARCCSSive. "
   ]
  },
  {
   "cell_type": "code",
   "execution_count": 16,
   "metadata": {
    "collapsed": false,
    "deletable": true,
    "editable": true,
    "slideshow": {
     "slide_type": "fragment"
    }
   },
   "outputs": [],
   "source": [
    "from ARCCSSive.CMIP5.Model import Instance, Version, VersionFile\n",
    "#print(type(Instance))"
   ]
  },
  {
   "cell_type": "markdown",
   "metadata": {
    "deletable": true,
    "editable": true,
    "slideshow": {
     "slide_type": "fragment"
    }
   },
   "source": [
    "We can also import the **unique(   )** function. This function will give us all the possible values we can use to filter over a particular attribute. "
   ]
  },
  {
   "cell_type": "code",
   "execution_count": 17,
   "metadata": {
    "collapsed": true,
    "deletable": true,
    "editable": true,
    "slideshow": {
     "slide_type": "fragment"
    }
   },
   "outputs": [],
   "source": [
    "from ARCCSSive.CMIP5.other_functions import unique"
   ]
  },
  {
   "cell_type": "markdown",
   "metadata": {
    "deletable": true,
    "editable": true,
    "slideshow": {
     "slide_type": "fragment"
    }
   },
   "source": [
    "Let's do a new query"
   ]
  },
  {
   "cell_type": "code",
   "execution_count": 18,
   "metadata": {
    "collapsed": false,
    "deletable": true,
    "editable": true,
    "slideshow": {
     "slide_type": "fragment"
    }
   },
   "outputs": [
    {
     "data": {
      "text/plain": [
       "105"
      ]
     },
     "execution_count": 18,
     "metadata": {},
     "output_type": "execute_result"
    }
   ],
   "source": [
    "results=db.outputs(variable='tas',experiment='rcp45',mip='day')\n",
    "results.count()"
   ]
  },
  {
   "cell_type": "markdown",
   "metadata": {
    "deletable": true,
    "editable": true,
    "slideshow": {
     "slide_type": "fragment"
    }
   },
   "source": [
    "We would like to filter the results by ensemble, so we will use **unique(  )** to get all the possible ensemble values."
   ]
  },
  {
   "cell_type": "code",
   "execution_count": 19,
   "metadata": {
    "collapsed": false,
    "deletable": true,
    "editable": true,
    "slideshow": {
     "slide_type": "fragment"
    }
   },
   "outputs": [
    {
     "name": "stdout",
     "output_type": "stream",
     "text": [
      "[u'r10i1p1', u'r11i1p1', u'r12i1p1', u'r13i1p1', u'r14i1p1', u'r1i1p1', u'r1i2p1', u'r2i1p1', u'r2i2p1', u'r3i1p1', u'r3i2p1', u'r4i1p1', u'r5i1p1', u'r6i1p1', u'r6i1p3', u'r7i1p1', u'r8i1p1', u'r9i1p1']\n"
     ]
    }
   ],
   "source": [
    "ensembles=unique(results,'ensemble')\n",
    "print(ensembles)"
   ]
  },
  {
   "cell_type": "markdown",
   "metadata": {
    "deletable": true,
    "editable": true,
    "slideshow": {
     "slide_type": "slide"
    }
   },
   "source": [
    "**unique( results, 'attribute' )** takes two inputs:  \n",
    "* results is a *query object* on the Instances table, for example what is returned by the db.outputs(  ) function\n",
    "* 'attribute' is a string defining a particular attribute or column of the Instances table, for example 'model'  \n",
    "\n",
    "**unique(   )** lists all the distinct values returned by the query for that particular attribute."
   ]
  },
  {
   "cell_type": "markdown",
   "metadata": {
    "deletable": true,
    "editable": true,
    "slideshow": {
     "slide_type": "fragment"
    }
   },
   "source": [
    "Now that we know all the ensembles values, let's choose one to filter our results."
   ]
  },
  {
   "cell_type": "code",
   "execution_count": 20,
   "metadata": {
    "collapsed": false,
    "deletable": true,
    "editable": true,
    "slideshow": {
     "slide_type": "fragment"
    }
   },
   "outputs": [
    {
     "name": "stdout",
     "output_type": "stream",
     "text": [
      "6\n"
     ]
    },
    {
     "data": {
      "text/plain": [
       "[u'r6i1p1']"
      ]
     },
     "execution_count": 20,
     "metadata": {},
     "output_type": "execute_result"
    }
   ],
   "source": [
    "r6i1p1_ens=results.filter(Instance.ensemble == 'r6i1p1')\n",
    "print( r6i1p1_ens.count() )\n",
    "unique(r6i1p1_ens,'ensemble')"
   ]
  },
  {
   "cell_type": "markdown",
   "metadata": {
    "deletable": true,
    "editable": true,
    "slideshow": {
     "slide_type": "fragment"
    }
   },
   "source": [
    "We used the **==** equals operator to select all the r61i1p1 ensembles.  \n",
    "If we wanted all the \"r6i1p#\" ensembles regardless of their physics (p) value we could have used the **like** operator.  "
   ]
  },
  {
   "cell_type": "code",
   "execution_count": 21,
   "metadata": {
    "collapsed": false,
    "deletable": true,
    "editable": true,
    "slideshow": {
     "slide_type": "fragment"
    }
   },
   "outputs": [
    {
     "name": "stdout",
     "output_type": "stream",
     "text": [
      "8\n"
     ]
    },
    {
     "data": {
      "text/plain": [
       "[u'r6i1p1', u'r6i1p3']"
      ]
     },
     "execution_count": 21,
     "metadata": {},
     "output_type": "execute_result"
    }
   ],
   "source": [
    "r6i1_ens=results.filter(Instance.ensemble.like('r6i1p%'))\n",
    "print( r6i1_ens.count() )\n",
    "unique(r6i1_ens,'ensemble')"
   ]
  },
  {
   "cell_type": "markdown",
   "metadata": {
    "deletable": true,
    "editable": true,
    "slideshow": {
     "slide_type": "slide"
    }
   },
   "source": [
    "If we want to search two variables at the same time we can leave the variable constraints out of the query inputs,  \n",
    "and then use **filter** with the **in_** operator to select them."
   ]
  },
  {
   "cell_type": "code",
   "execution_count": 22,
   "metadata": {
    "collapsed": false,
    "deletable": true,
    "editable": true,
    "slideshow": {
     "slide_type": "fragment"
    }
   },
   "outputs": [
    {
     "data": {
      "text/plain": [
       "73"
      ]
     },
     "execution_count": 22,
     "metadata": {},
     "output_type": "execute_result"
    }
   ],
   "source": [
    "results=db.outputs(ensemble='r1i1p1',experiment='rcp45',mip='day')\\\n",
    ".filter(Instance.variable.in_(['tasmin','tasmax']))\n",
    "results.count()"
   ]
  },
  {
   "cell_type": "markdown",
   "metadata": {
    "deletable": true,
    "editable": true,
    "slideshow": {
     "slide_type": "fragment"
    }
   },
   "source": [
    "As you can see filter can follow directly the query, i.e. the **outputs(  )** function.  \n",
    "In fact, you can refine a query with how many successive filters as you want."
   ]
  },
  {
   "cell_type": "code",
   "execution_count": 23,
   "metadata": {
    "collapsed": false,
    "deletable": true,
    "editable": true,
    "slideshow": {
     "slide_type": "fragment"
    }
   },
   "outputs": [
    {
     "data": {
      "text/plain": [
       "22"
      ]
     },
     "execution_count": 23,
     "metadata": {},
     "output_type": "execute_result"
    }
   ],
   "source": [
    "results=db.outputs(ensemble='r1i1p1',experiment='rcp45',mip='day')\\\n",
    ".filter(Instance.variable.in_(['tasmin','tasmax']))\\\n",
    ".filter(Instance.model.like('%ESM%'))\n",
    "results.count()"
   ]
  },
  {
   "cell_type": "markdown",
   "metadata": {
    "deletable": true,
    "editable": true,
    "slideshow": {
     "slide_type": "slide"
    }
   },
   "source": [
    "### Using the search results to open the files"
   ]
  },
  {
   "cell_type": "markdown",
   "metadata": {
    "deletable": true,
    "editable": true,
    "slideshow": {
     "slide_type": "slide"
    }
   },
   "source": [
    "Once we have found the instances and versions we want to use we can use their path to find the files and work with them.  \n",
    "First we load numpy and the netcdf module."
   ]
  },
  {
   "cell_type": "code",
   "execution_count": 24,
   "metadata": {
    "collapsed": false,
    "deletable": true,
    "editable": true,
    "slideshow": {
     "slide_type": "fragment"
    }
   },
   "outputs": [],
   "source": [
    "import numpy as np\n",
    "from netCDF4 import MFDataset"
   ]
  },
  {
   "cell_type": "markdown",
   "metadata": {
    "deletable": true,
    "editable": true,
    "slideshow": {
     "slide_type": "fragment"
    }
   },
   "source": [
    "All you need to open a file is the location, this is stored in the Versions table in the database as *path*.  \n",
    "Alternatively you can use the *drstree* path, that is returned by the Instance *drstree_path(  )* method."
   ]
  },
  {
   "cell_type": "markdown",
   "metadata": {
    "deletable": true,
    "editable": true,
    "slideshow": {
     "slide_type": "fragment"
    }
   },
   "source": [
    "Let's define a simple function that reads a variable from a file and calculate its maximum value.  \n",
    "We will use MFDataset(  ) from the netcDF4 module to open all the netcdf files in the input path as one aggregated file."
   ]
  },
  {
   "cell_type": "code",
   "execution_count": 25,
   "metadata": {
    "collapsed": true,
    "deletable": true,
    "editable": true,
    "slideshow": {
     "slide_type": "fragment"
    }
   },
   "outputs": [],
   "source": [
    "def var_max(var,path):\n",
    "    ''' calculate max value for variable '''\n",
    "    \n",
    "    # MFDataset will open all netcdf files in path as one aggregated file    \n",
    "    print(path+\"/*.nc\")\n",
    "    # open the file\n",
    "    nc=MFDataset(path+\"/*.nc\",'r')\n",
    "    # read the variable from file into a numpy array\n",
    "    data = nc.variables[var][:]\n",
    "    # close the file\n",
    "    nc.close()\n",
    "    # return the maximum\n",
    "    return np.max(data)"
   ]
  },
  {
   "cell_type": "markdown",
   "metadata": {
    "deletable": true,
    "editable": true,
    "slideshow": {
     "slide_type": "fragment"
    }
   },
   "source": [
    "Now we perform a search, loop through the results and pass the Version path attribute to the var_max(  ) function"
   ]
  },
  {
   "cell_type": "code",
   "execution_count": 26,
   "metadata": {
    "collapsed": false,
    "deletable": true,
    "editable": true,
    "slideshow": {
     "slide_type": "fragment"
    }
   },
   "outputs": [
    {
     "name": "stdout",
     "output_type": "stream",
     "text": [
      "8\n",
      "/g/data/ua6/unofficial-ESG-replica/tmp/tree/dias-esg-nd.tkl.iis.u-tokyo.ac.jp/thredds/fileServer/esg_dataroot/outgoing/output1/MIROC/MIROC-ESM/rcp45/day/atmos/day/r1i1p1/v20120710/tas/*.nc\n",
      "()\n",
      "Maximum value for variable tas, version v20120710 is 330\n",
      "/g/data/ua6/unofficial-ESG-replica/tmp/tree/albedo2.dkrz.de/thredds/fileServer/cmip5/output1/MIROC/MIROC5/rcp45/day/atmos/day/r1i1p1/v20120710/tas/*.nc\n",
      "()\n",
      "Maximum value for variable tas, version v20120710 is 325\n"
     ]
    }
   ],
   "source": [
    "results=db.outputs(ensemble='r1i1p1',experiment='rcp45',mip='day').filter(Instance.model.like('MIROC%'))\\\n",
    ".filter(Instance.variable.in_(['tas','pr']))\n",
    "print(results.count())\n",
    "\n",
    "for o in results[:2]:\n",
    "    var = o.variable\n",
    "    for v in o.versions:\n",
    "        path=str(v.path)\n",
    "        varmax=var_max(var,path)\n",
    "        print()\n",
    "        print('Maximum value for variable %s, version %s is %d' % (var, v.version, varmax))"
   ]
  },
  {
   "cell_type": "markdown",
   "metadata": {
    "deletable": true,
    "editable": true,
    "slideshow": {
     "slide_type": "notes"
    }
   },
   "source": [
    "NB if you pass directly *v.path* value you get an error because the databse return unicode string, so you need to use the str(  ) function to convert to a normal string."
   ]
  },
  {
   "cell_type": "markdown",
   "metadata": {
    "deletable": true,
    "editable": true,
    "slideshow": {
     "slide_type": "slide"
    }
   },
   "source": [
    "### How to integrate ARCCSSive in your python script"
   ]
  },
  {
   "cell_type": "markdown",
   "metadata": {
    "deletable": true,
    "editable": true,
    "slideshow": {
     "slide_type": "slide"
    }
   },
   "source": [
    "In the previous example we simply looped through the results returned by the search as they were and passed them to a function that opened the files.  \n",
    "But what if we want to do something more complex?  \n",
    "Let's say that we want to pass two variables to a function and do it for every model/ensemble that has both of them for a fixed experiment and mip\n",
    "Mostly users would somehow loop over the drstree path, doing something like:  \n",
    "> cd /g/data1/ua6/DRSv2/CMIP5  \n",
    "> list all models and save in model_list\n",
    "> for model in model_list:\n",
    ">     list all eavailable ensembles and save in ensemble_list\n",
    ">     for ensemble in ensemble_list:\n",
    ">         call_function(var1_path, var2_path)\n",
    "\n",
    "Using ARCCSSIve we can do the same using the **unique(   )** function to return the list of all available models/ensembles.  \n",
    "Let's start from defining a simple function that calculates the difference bewteen the values of two variables."
   ]
  },
  {
   "cell_type": "code",
   "execution_count": 27,
   "metadata": {
    "collapsed": true,
    "deletable": true,
    "editable": true,
    "slideshow": {
     "slide_type": "fragment"
    }
   },
   "outputs": [],
   "source": [
    "def vars_difference(var1,path1,var2,path2):\n",
    "    ''' calculate difference between the mean of two variables '''\n",
    "    \n",
    "    # open the files and read both variables\n",
    "    nc1=MFDataset(path1+\"/*.nc\",'r')\n",
    "    data1 = nc1.variables[var1][:]\n",
    "    nc1.close()\n",
    "    nc2=MFDataset(path2+\"/*.nc\",'r')\n",
    "    data2 = nc2.variables[var2][:]\n",
    "    nc2.close()\n",
    "    \n",
    "    # return the difference between the two means\n",
    "    return np.mean(data2) - np.mean(data1)"
   ]
  },
  {
   "cell_type": "markdown",
   "metadata": {
    "collapsed": true,
    "deletable": true,
    "editable": true,
    "slideshow": {
     "slide_type": "fragment"
    }
   },
   "source": [
    "Now let's do the another search and get tasmin and tasmax"
   ]
  },
  {
   "cell_type": "code",
   "execution_count": 28,
   "metadata": {
    "collapsed": false,
    "deletable": true,
    "editable": true,
    "slideshow": {
     "slide_type": "fragment"
    }
   },
   "outputs": [
    {
     "data": {
      "text/plain": [
       "8"
      ]
     },
     "execution_count": 28,
     "metadata": {},
     "output_type": "execute_result"
    }
   ],
   "source": [
    "results=db.outputs(ensemble='r1i1p1',experiment='rcp45',mip='Amon').filter(Instance.model.like('MIROC%'))\\\n",
    ".filter(Instance.variable.in_(['tasmin','tasmax']))\n",
    "results.count()"
   ]
  },
  {
   "cell_type": "markdown",
   "metadata": {
    "deletable": true,
    "editable": true,
    "slideshow": {
     "slide_type": "fragment"
    }
   },
   "source": [
    "Get the list of distinct models and ensembles using unique"
   ]
  },
  {
   "cell_type": "code",
   "execution_count": 31,
   "metadata": {
    "collapsed": false,
    "deletable": true,
    "editable": true,
    "slideshow": {
     "slide_type": "fragment"
    }
   },
   "outputs": [],
   "source": [
    "models=unique(results,'model')\n",
    "ensembles=unique(results,'ensemble')"
   ]
  },
  {
   "cell_type": "markdown",
   "metadata": {
    "deletable": true,
    "editable": true,
    "slideshow": {
     "slide_type": "fragment"
    }
   },
   "source": [
    "Now we loop over the models and the ensembles, for each model-ensemble combination we call the function if we have an instance for both variables."
   ]
  },
  {
   "cell_type": "code",
   "execution_count": 32,
   "metadata": {
    "collapsed": false,
    "deletable": true,
    "editable": true,
    "slideshow": {
     "slide_type": "fragment"
    }
   },
   "outputs": [
    {
     "name": "stdout",
     "output_type": "stream",
     "text": [
      "Difference for model MIROC-ESM and ensemble r1i1p1 is 3\n",
      "Difference for model MIROC-ESM-CHEM and ensemble r1i1p1 is 3\n",
      "Difference for model MIROC4h and ensemble r1i1p1 is 3\n",
      "Difference for model MIROC5 and ensemble r1i1p1 is 3\n"
     ]
    }
   ],
   "source": [
    "for mod in models:\n",
    "    for ens in ensembles:\n",
    "        # we filter twice the reuslts, using the model and ensemble values plus one the variable at the time\n",
    "        tasmin_inst=results.filter(Instance.model==mod, Instance.ensemble==ens, Instance.variable=='tasmin').first()\n",
    "        tasmax_inst=results.filter(Instance.model==mod, Instance.ensemble==ens, Instance.variable=='tasmax').first()\n",
    "        # we check that both filters returned something and call the function if they did\n",
    "        if tasmax_inst and tasmin_inst:\n",
    "            tasmin_path=tasmin_inst.latest()[0].path\n",
    "            tasmax_path=tasmax_inst.latest()[0].path\n",
    "            diff=vars_difference('tasmin',str(tasmin_path),'tasmax',str(tasmax_path))\n",
    "            print('Difference for model %s and ensemble %s is %d' % (mod, ens, diff))"
   ]
  },
  {
   "cell_type": "markdown",
   "metadata": {
    "deletable": true,
    "editable": true,
    "slideshow": {
     "slide_type": "notes"
    }
   },
   "source": [
    "**NB** we used **first(  )** after the filter because we know we should be getting back either 1 instance or None. We cannot use **one(  )** because that would return an error if it can't find anything.  \n",
    "Also we should have checked that we are using the same versions for both variables rather than just getting the latest!  \n",
    "\n",
    "This is just an attempt to replicate the way we use drstree but when you get more familiar with the module and with SQLalchemy you can set up more sophysticated searches."
   ]
  }
 ],
 "metadata": {
  "anaconda-cloud": {},
  "kernelspec": {
   "display_name": "Python [conda env:analysis27]",
   "language": "python",
   "name": "conda-env-analysis27-py"
  },
  "language_info": {
   "codemirror_mode": {
    "name": "ipython",
    "version": 2
   },
   "file_extension": ".py",
   "mimetype": "text/x-python",
   "name": "python",
   "nbconvert_exporter": "python",
   "pygments_lexer": "ipython2",
   "version": "2.7.13"
  }
 },
 "nbformat": 4,
 "nbformat_minor": 0
}
