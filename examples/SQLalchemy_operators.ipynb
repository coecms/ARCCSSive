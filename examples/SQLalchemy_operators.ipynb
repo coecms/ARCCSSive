{
 "cells": [
  {
   "cell_type": "markdown",
   "metadata": {},
   "source": [
    "### More on SQLalchemy filter and operators"
   ]
  },
  {
   "cell_type": "code",
   "execution_count": null,
   "metadata": {
    "collapsed": true
   },
   "outputs": [],
   "source": [
    "! module use /g/data3/hh5/public/modules\n",
    "! module load conda/analysis27"
   ]
  },
  {
   "cell_type": "code",
   "execution_count": 2,
   "metadata": {},
   "outputs": [],
   "source": [
    "from ARCCSSive import CMIP5\n",
    "from ARCCSSive.CMIP5.Model import Instance\n",
    "from ARCCSSive.CMIP5.other_functions import unique\n",
    "db=CMIP5.connect()"
   ]
  },
  {
   "cell_type": "markdown",
   "metadata": {},
   "source": [
    "Let's start from a simple query and see how we can use different operators to refine it."
   ]
  },
  {
   "cell_type": "code",
   "execution_count": null,
   "metadata": {},
   "outputs": [],
   "source": [
    "results=db.outputs(ensemble='r1i1p1',experiment='rcp45',mip='day')\n",
    "results.count()"
   ]
  },
  {
   "cell_type": "markdown",
   "metadata": {},
   "source": [
    "* **equals   (  ==  )**"
   ]
  },
  {
   "cell_type": "code",
   "execution_count": null,
   "metadata": {},
   "outputs": [],
   "source": [
    "miroc5=results.filter(Instance.model == 'MIROC5')\n",
    "miroc5.count()\n",
    "unique(miroc5,'model')"
   ]
  },
  {
   "cell_type": "markdown",
   "metadata": {},
   "source": [
    "* ** not equals (  !=  )**"
   ]
  },
  {
   "cell_type": "code",
   "execution_count": null,
   "metadata": {},
   "outputs": [],
   "source": [
    "not_miroc5=results.filter(Instance.model != 'MIROC5')\n",
    "not_miroc5.count()\n",
    "'MIROC5' in unique(not_miroc5,'model')"
   ]
  },
  {
   "cell_type": "markdown",
   "metadata": {},
   "source": [
    "*  **LIKE (  like %  ) **     NB like is case-insensitive"
   ]
  },
  {
   "cell_type": "code",
   "execution_count": null,
   "metadata": {},
   "outputs": [],
   "source": [
    "miroc_models=results.filter(Instance.model.like('MIROC%'))\n",
    "# miroc_models=results.filter(Instance.model.like('miroc%'))\n",
    "miroc_models.count()\n",
    "unique(miroc_models,'model')"
   ]
  },
  {
   "cell_type": "markdown",
   "metadata": {},
   "source": [
    "* **IN  (  in_ )**"
   ]
  },
  {
   "cell_type": "code",
   "execution_count": null,
   "metadata": {},
   "outputs": [],
   "source": [
    "tasmin_tasmax=results.filter(Instance.variable.in_(['tasmin','tasmax']))\n",
    "tasmin_tasmax.count()\n",
    "unique(tasmin_tasmax,'variable')"
   ]
  },
  {
   "cell_type": "markdown",
   "metadata": {},
   "source": [
    "* **NOT IN  ( ~ in_ )**"
   ]
  },
  {
   "cell_type": "code",
   "execution_count": null,
   "metadata": {},
   "outputs": [],
   "source": [
    "not_tasmin_tasmax=results.filter(~Instance.variable.in_(['tasmin','tasmax']))\n",
    "not_tasmin_tasmax.count()\n",
    "print(unique(not_tasmin_tasmax,'variable'))"
   ]
  },
  {
   "cell_type": "markdown",
   "metadata": {
    "collapsed": true
   },
   "source": [
    "The **AND** and **OR** operators need to be explicitly imported"
   ]
  },
  {
   "cell_type": "code",
   "execution_count": null,
   "metadata": {
    "collapsed": true
   },
   "outputs": [],
   "source": [
    "from sqlalchemy import and_, or_"
   ]
  },
  {
   "cell_type": "markdown",
   "metadata": {},
   "source": [
    "* **AND  (  and_  )**"
   ]
  },
  {
   "cell_type": "code",
   "execution_count": null,
   "metadata": {},
   "outputs": [],
   "source": [
    "miroc5_tas=results.filter(and_(Instance.model == 'MIROC5',Instance.variable == 'tas'))\n",
    "print( miroc5_tas.count() )\n",
    "print( unique(miroc5_tas,'model') )\n",
    "print( unique(miroc5_tas,'variable') )"
   ]
  },
  {
   "cell_type": "markdown",
   "metadata": {},
   "source": [
    "Let's try using the same two constraints as consecutive filter calls."
   ]
  },
  {
   "cell_type": "code",
   "execution_count": null,
   "metadata": {},
   "outputs": [],
   "source": [
    "miroc5_tas=results.filter(Instance.model == 'MIROC5').filter(Instance.variable == 'tas')\n",
    "print( miroc5_tas.count() )\n",
    "print( unique(miroc5_tas,'model') )\n",
    "print( unique(miroc5_tas,'variable') )"
   ]
  },
  {
   "cell_type": "markdown",
   "metadata": {},
   "source": [
    "**and_** returns the same results as using two filters one after the other.  \n",
    "\n",
    "Let's try to pass two constraints directly to the same filter call."
   ]
  },
  {
   "cell_type": "code",
   "execution_count": null,
   "metadata": {
    "scrolled": true
   },
   "outputs": [],
   "source": [
    "miroc5_tas=results.filter(Instance.model == 'MIROC5', Instance.variable == 'tas')\n",
    "print( miroc5_tas.count() )\n",
    "print( unique(miroc5_tas,'model') )\n",
    "print( unique(miroc5_tas,'variable') )"
   ]
  },
  {
   "cell_type": "markdown",
   "metadata": {},
   "source": [
    "Again we're getting the same result as if we used **and_**.  \n",
    "\n",
    "\n",
    "* **OR  (  or_  )**"
   ]
  },
  {
   "cell_type": "code",
   "execution_count": null,
   "metadata": {},
   "outputs": [],
   "source": [
    "miroc5_or_clt=results.filter(or_(Instance.model == 'MIROC5', Instance.variable == 'clt'))\n",
    "miroc5_or_clt.count()\n",
    "for o in miroc5_or_clt:\n",
    "    print( o.model, o.variable )"
   ]
  },
  {
   "cell_type": "markdown",
   "metadata": {},
   "source": [
    "### Getting deeper in the query object "
   ]
  },
  {
   "cell_type": "markdown",
   "metadata": {},
   "source": [
    "Let's check exactly what the *outputs()* function returns"
   ]
  },
  {
   "cell_type": "code",
   "execution_count": 3,
   "metadata": {},
   "outputs": [
    {
     "name": "stdout",
     "output_type": "stream",
     "text": [
      "<class 'sqlalchemy.orm.query.Query'>\n"
     ]
    }
   ],
   "source": [
    "results=db.outputs(variable='tas',experiment='historical',mip='Amon',model='MIROC5')\n",
    "print(type(results))"
   ]
  },
  {
   "cell_type": "markdown",
   "metadata": {},
   "source": [
    "**outputs( )** is a method of an ARCCSSive session which is actually using the SQLalchemy **Session.query( )** method.\n",
    "For example in this case is equivalent to\n",
    "> db.query(  )  \n",
    "\n",
    "*results* is a **query** object. This means that we haven't yet retrieve any actual value from the Instance table.  \n",
    "What SQLalchemy has done up to now is to generate an SQL query statement from our input arguments to pass \n",
    "to the database. \n",
    "The SQL statement is executed only when we explicitly retrieve the results to use them.  \n",
    "This why the query is always instantaneous"
   ]
  },
  {
   "cell_type": "markdown",
   "metadata": {},
   "source": [
    "Try to run\n",
    "> results=db.output()   \n",
    "\n",
    "that effectivily retrieves the entire Istance table and see how long it takes."
   ]
  },
  {
   "cell_type": "code",
   "execution_count": 4,
   "metadata": {},
   "outputs": [
    {
     "data": {
      "text/plain": [
       "173111"
      ]
     },
     "execution_count": 4,
     "metadata": {},
     "output_type": "execute_result"
    }
   ],
   "source": [
    "results=db.outputs()\n",
    "results.count()"
   ]
  },
  {
   "cell_type": "markdown",
   "metadata": {},
   "source": [
    "We can directly loop through the query object returned or we can use one of the methods that return a value, as: **all( )**, **one( )** and **first( )**.  "
   ]
  },
  {
   "cell_type": "code",
   "execution_count": 5,
   "metadata": {},
   "outputs": [
    {
     "name": "stdout",
     "output_type": "stream",
     "text": [
      "<class 'list'>\n",
      "[<ARCCSSive.CMIP5.Model.Instance object at 0x1081a5400>, <ARCCSSive.CMIP5.Model.Instance object at 0x1081a5470>, <ARCCSSive.CMIP5.Model.Instance object at 0x1081a54e0>, <ARCCSSive.CMIP5.Model.Instance object at 0x1081a5550>, <ARCCSSive.CMIP5.Model.Instance object at 0x1081a55c0>]\n"
     ]
    }
   ],
   "source": [
    "results=db.outputs(variable='tas',experiment='historical',mip='Amon',model='MIROC5').all()\n",
    "print(type(results))\n",
    "print( results )"
   ]
  },
  {
   "cell_type": "markdown",
   "metadata": {},
   "source": [
    "If we specified all the 5 constraints we can pass to the outputs function we should always get only one row back, since you cannot have two rows sharing all these values.  \n",
    "In this case we can use the **one(  )** method to return that *row*."
   ]
  },
  {
   "cell_type": "code",
   "execution_count": 12,
   "metadata": {},
   "outputs": [
    {
     "name": "stdout",
     "output_type": "stream",
     "text": [
      "<class 'ARCCSSive.CMIP5.Model.Instance'>\n"
     ]
    }
   ],
   "source": [
    "result=db.outputs(variable='tas',experiment='historical',mip='Amon',model='MIROC5',ensemble='r1i1p1').one()\n",
    "print(type(result))"
   ]
  },
  {
   "cell_type": "markdown",
   "metadata": {},
   "source": [
    "Let'see what happens if you use **one(  )** with a query that returns multiple rows."
   ]
  },
  {
   "cell_type": "code",
   "execution_count": 11,
   "metadata": {},
   "outputs": [
    {
     "ename": "MultipleResultsFound",
     "evalue": "Multiple rows were found for one()",
     "output_type": "error",
     "traceback": [
      "\u001b[0;31m---------------------------------------------------------------------------\u001b[0m",
      "\u001b[0;31mMultipleResultsFound\u001b[0m                      Traceback (most recent call last)",
      "\u001b[0;32m<ipython-input-11-e8ce03a209fa>\u001b[0m in \u001b[0;36m<module>\u001b[0;34m()\u001b[0m\n\u001b[0;32m----> 1\u001b[0;31m \u001b[0mresult\u001b[0m\u001b[0;34m=\u001b[0m\u001b[0mdb\u001b[0m\u001b[0;34m.\u001b[0m\u001b[0moutputs\u001b[0m\u001b[0;34m(\u001b[0m\u001b[0mvariable\u001b[0m\u001b[0;34m=\u001b[0m\u001b[0;34m'tas'\u001b[0m\u001b[0;34m,\u001b[0m\u001b[0mexperiment\u001b[0m\u001b[0;34m=\u001b[0m\u001b[0;34m'historical'\u001b[0m\u001b[0;34m,\u001b[0m\u001b[0mmip\u001b[0m\u001b[0;34m=\u001b[0m\u001b[0;34m'Amon'\u001b[0m\u001b[0;34m,\u001b[0m\u001b[0mmodel\u001b[0m\u001b[0;34m=\u001b[0m\u001b[0;34m'MIROC5'\u001b[0m\u001b[0;34m)\u001b[0m\u001b[0;34m.\u001b[0m\u001b[0mone\u001b[0m\u001b[0;34m(\u001b[0m\u001b[0;34m)\u001b[0m\u001b[0;34m\u001b[0m\u001b[0m\n\u001b[0m",
      "\u001b[0;32m/Users/paolap/anaconda/lib/python3.5/site-packages/sqlalchemy/orm/query.py\u001b[0m in \u001b[0;36mone\u001b[0;34m(self)\u001b[0m\n\u001b[1;32m   2725\u001b[0m         \u001b[0;32melse\u001b[0m\u001b[0;34m:\u001b[0m\u001b[0;34m\u001b[0m\u001b[0m\n\u001b[1;32m   2726\u001b[0m             raise orm_exc.MultipleResultsFound(\n\u001b[0;32m-> 2727\u001b[0;31m                 \"Multiple rows were found for one()\")\n\u001b[0m\u001b[1;32m   2728\u001b[0m \u001b[0;34m\u001b[0m\u001b[0m\n\u001b[1;32m   2729\u001b[0m     \u001b[0;32mdef\u001b[0m \u001b[0mscalar\u001b[0m\u001b[0;34m(\u001b[0m\u001b[0mself\u001b[0m\u001b[0;34m)\u001b[0m\u001b[0;34m:\u001b[0m\u001b[0;34m\u001b[0m\u001b[0m\n",
      "\u001b[0;31mMultipleResultsFound\u001b[0m: Multiple rows were found for one()"
     ]
    }
   ],
   "source": [
    "result=db.outputs(variable='tas',experiment='historical',mip='Amon',model='MIROC5').one()"
   ]
  },
  {
   "cell_type": "markdown",
   "metadata": {},
   "source": [
    "This generates an error, so we should use only when we are expecting one row back or if we want to generate two different responses inc ase a query returns one or many rows.  \n",
    "\n",
    "If we have multiple rows returned by the query we use can use the method **first()** to get only the first result."
   ]
  },
  {
   "cell_type": "code",
   "execution_count": 10,
   "metadata": {},
   "outputs": [
    {
     "name": "stdout",
     "output_type": "stream",
     "text": [
      "<class 'ARCCSSive.CMIP5.Model.Instance'>\n"
     ]
    }
   ],
   "source": [
    "result=db.outputs(variable='tas',experiment='historical',mip='Amon',model='MIROC5').first()\n",
    "print(type(result))"
   ]
  },
  {
   "cell_type": "markdown",
   "metadata": {},
   "source": [
    "Another useful method of the query is **order_by(   )**."
   ]
  },
  {
   "cell_type": "code",
   "execution_count": 14,
   "metadata": {},
   "outputs": [
    {
     "name": "stdout",
     "output_type": "stream",
     "text": [
      "r1i1p1\n",
      "r2i1p1\n",
      "r3i1p1\n",
      "r4i1p1\n",
      "r5i1p1\n"
     ]
    }
   ],
   "source": [
    "results=db.outputs(variable='tas',experiment='historical',mip='Amon',model='MIROC5').order_by(Instance.ensemble)\n",
    "for o in results:\n",
    "    print(o.ensemble)"
   ]
  },
  {
   "cell_type": "code",
   "execution_count": null,
   "metadata": {
    "collapsed": true
   },
   "outputs": [],
   "source": []
  }
 ],
 "metadata": {
  "anaconda-cloud": {},
  "kernelspec": {
   "display_name": "Python [conda env:analysis27]",
   "language": "python",
   "name": "conda-env-analysis27-py"
  },
  "language_info": {
   "codemirror_mode": {
    "name": "ipython",
    "version": 2
   },
   "file_extension": ".py",
   "mimetype": "text/x-python",
   "name": "python",
   "nbconvert_exporter": "python",
   "pygments_lexer": "ipython2",
   "version": "2.7.13"
  }
 },
 "nbformat": 4,
 "nbformat_minor": 1
}
